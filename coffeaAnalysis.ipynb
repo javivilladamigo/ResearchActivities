{
 "cells": [
  {
   "cell_type": "code",
   "execution_count": 6,
   "metadata": {},
   "outputs": [
    {
     "name": "stdout",
     "output_type": "stream",
     "text": [
      "Welcome to JupyROOT 6.26/04\n"
     ]
    }
   ],
   "source": [
    "import uproot\n",
    "import numpy as np\n",
    "import awkward as ak\n",
    "import hist\n",
    "import matplotlib.pyplot as plt\n",
    "import mplhep as hep\n",
    "from coffea.nanoevents import NanoEventsFactory, BaseSchema\n",
    "import ROOT as r\n",
    "%jsroot on"
   ]
  },
  {
   "cell_type": "code",
   "execution_count": 8,
   "metadata": {},
   "outputs": [],
   "source": [
    "f = r.TFile.Open(\"GluGluToH_HToJPsiG_JPsiToMuMu_TuneCP5_13TeV-madgraph-pythia8_RunIISummer20UL16_Skim.root\", \"READ\")\n",
    "Events = f.Get(\"Events\")"
   ]
  },
  {
   "cell_type": "code",
   "execution_count": 10,
   "metadata": {},
   "outputs": [
    {
     "ename": "TypeError",
     "evalue": "<cppyy.LowLevelView object at 0x135401a40> cannot be converted into an Awkward Array\n\n(https://github.com/scikit-hep/awkward-1.0/blob/1.8.0/src/awkward/operations/convert.py#L1922)",
     "output_type": "error",
     "traceback": [
      "\u001b[0;31m---------------------------------------------------------------------------\u001b[0m",
      "\u001b[0;31mTypeError\u001b[0m                                 Traceback (most recent call last)",
      "\u001b[1;32m/Users/javi/Documents/Padova/Research.nosync/ResearchActivities/coffeaAnalysis.ipynb Cell 3\u001b[0m in \u001b[0;36m<cell line: 1>\u001b[0;34m()\u001b[0m\n\u001b[0;32m----> <a href='vscode-notebook-cell:/Users/javi/Documents/Padova/Research.nosync/ResearchActivities/coffeaAnalysis.ipynb#W2sZmlsZQ%3D%3D?line=0'>1</a>\u001b[0m ak\u001b[39m.\u001b[39;49mnum(Events\u001b[39m.\u001b[39;49mMuon_pt, axis \u001b[39m=\u001b[39;49m \u001b[39m1\u001b[39;49m)\n",
      "File \u001b[0;32m/usr/local/lib/python3.9/site-packages/awkward/operations/structure.py:248\u001b[0m, in \u001b[0;36mnum\u001b[0;34m(array, axis, highlevel, behavior)\u001b[0m\n\u001b[1;32m    187\u001b[0m \u001b[39mdef\u001b[39;00m \u001b[39mnum\u001b[39m(array, axis\u001b[39m=\u001b[39m\u001b[39m1\u001b[39m, highlevel\u001b[39m=\u001b[39m\u001b[39mTrue\u001b[39;00m, behavior\u001b[39m=\u001b[39m\u001b[39mNone\u001b[39;00m):\n\u001b[1;32m    188\u001b[0m     \u001b[39m\"\"\"\u001b[39;00m\n\u001b[1;32m    189\u001b[0m \u001b[39m    Args:\u001b[39;00m\n\u001b[1;32m    190\u001b[0m \u001b[39m        array: Data containing nested lists to count.\u001b[39;00m\n\u001b[0;32m   (...)\u001b[0m\n\u001b[1;32m    246\u001b[0m \u001b[39m        <Array [[1.1, 2.2, 3.3], None, [7.7]] type='3 * option[var * float64]'>\u001b[39;00m\n\u001b[1;32m    247\u001b[0m \u001b[39m    \"\"\"\u001b[39;00m\n\u001b[0;32m--> 248\u001b[0m     layout \u001b[39m=\u001b[39m ak\u001b[39m.\u001b[39;49moperations\u001b[39m.\u001b[39;49mconvert\u001b[39m.\u001b[39;49mto_layout(\n\u001b[1;32m    249\u001b[0m         array, allow_record\u001b[39m=\u001b[39;49m\u001b[39mFalse\u001b[39;49;00m, allow_other\u001b[39m=\u001b[39;49m\u001b[39mFalse\u001b[39;49;00m\n\u001b[1;32m    250\u001b[0m     )\n\u001b[1;32m    251\u001b[0m     out \u001b[39m=\u001b[39m layout\u001b[39m.\u001b[39mnum(axis\u001b[39m=\u001b[39maxis)\n\u001b[1;32m    252\u001b[0m     \u001b[39mreturn\u001b[39;00m ak\u001b[39m.\u001b[39m_util\u001b[39m.\u001b[39mmaybe_wrap_like(out, array, behavior, highlevel)\n",
      "File \u001b[0;32m/usr/local/lib/python3.9/site-packages/awkward/operations/convert.py:1920\u001b[0m, in \u001b[0;36mto_layout\u001b[0;34m(array, allow_record, allow_other, numpytype)\u001b[0m\n\u001b[1;32m   1917\u001b[0m     \u001b[39mreturn\u001b[39;00m from_iter(array, highlevel\u001b[39m=\u001b[39m\u001b[39mFalse\u001b[39;00m)\n\u001b[1;32m   1919\u001b[0m \u001b[39melif\u001b[39;00m \u001b[39mnot\u001b[39;00m allow_other:\n\u001b[0;32m-> 1920\u001b[0m     \u001b[39mraise\u001b[39;00m \u001b[39mTypeError\u001b[39;00m(\n\u001b[1;32m   1921\u001b[0m         \u001b[39mf\u001b[39m\u001b[39m\"\u001b[39m\u001b[39m{\u001b[39;00marray\u001b[39m}\u001b[39;00m\u001b[39m cannot be converted into an Awkward Array\u001b[39m\u001b[39m\"\u001b[39m\n\u001b[1;32m   1922\u001b[0m         \u001b[39m+\u001b[39m ak\u001b[39m.\u001b[39m_util\u001b[39m.\u001b[39mexception_suffix(\u001b[39m__file__\u001b[39m)\n\u001b[1;32m   1923\u001b[0m     )\n\u001b[1;32m   1925\u001b[0m \u001b[39melse\u001b[39;00m:\n\u001b[1;32m   1926\u001b[0m     \u001b[39mreturn\u001b[39;00m array\n",
      "\u001b[0;31mTypeError\u001b[0m: <cppyy.LowLevelView object at 0x135401a40> cannot be converted into an Awkward Array\n\n(https://github.com/scikit-hep/awkward-1.0/blob/1.8.0/src/awkward/operations/convert.py#L1922)"
     ]
    }
   ],
   "source": [
    "\n"
   ]
  },
  {
   "cell_type": "code",
   "execution_count": null,
   "metadata": {},
   "outputs": [],
   "source": []
  }
 ],
 "metadata": {
  "kernelspec": {
   "display_name": "Python 3.9.13 64-bit",
   "language": "python",
   "name": "python3"
  },
  "language_info": {
   "codemirror_mode": {
    "name": "ipython",
    "version": 3
   },
   "file_extension": ".py",
   "mimetype": "text/x-python",
   "name": "python",
   "nbconvert_exporter": "python",
   "pygments_lexer": "ipython3",
   "version": "3.9.13"
  },
  "orig_nbformat": 4,
  "vscode": {
   "interpreter": {
    "hash": "aee8b7b246df8f9039afb4144a1f6fd8d2ca17a180786b69acc140d282b71a49"
   }
  }
 },
 "nbformat": 4,
 "nbformat_minor": 2
}
