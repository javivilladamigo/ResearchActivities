{
 "cells": [
  {
   "cell_type": "markdown",
   "metadata": {},
   "source": [
    "# Coffea Analysis of a NanoAOD MC dataset for CMS Run II (2016)"
   ]
  },
  {
   "cell_type": "markdown",
   "metadata": {},
   "source": [
    "## Imports & reading"
   ]
  },
  {
   "cell_type": "code",
   "execution_count": 20,
   "metadata": {},
   "outputs": [],
   "source": [
    "# imports\n",
    "\n",
    "import uproot\n",
    "import numpy as np\n",
    "import awkward as ak\n",
    "import hist\n",
    "import matplotlib.pyplot as plt\n",
    "import mplhep as hep\n",
    "plt.style.use([hep.style.CMS])\n",
    "from coffea.nanoevents import NanoEventsFactory, NanoAODSchema\n",
    "import ROOT as r"
   ]
  },
  {
   "cell_type": "code",
   "execution_count": 21,
   "metadata": {},
   "outputs": [
    {
     "name": "stderr",
     "output_type": "stream",
     "text": [
      "/usr/local/lib/python3.9/site-packages/coffea/nanoevents/schemas/nanoaod.py:193: RuntimeWarning: Missing cross-reference index for FatJet_genJetAK8Idx => GenJetAK8\n",
      "  warnings.warn(\n",
      "/usr/local/lib/python3.9/site-packages/coffea/nanoevents/schemas/nanoaod.py:193: RuntimeWarning: Missing cross-reference index for FatJet_subJetIdx1 => SubJet\n",
      "  warnings.warn(\n",
      "/usr/local/lib/python3.9/site-packages/coffea/nanoevents/schemas/nanoaod.py:193: RuntimeWarning: Missing cross-reference index for FatJet_subJetIdx2 => SubJet\n",
      "  warnings.warn(\n",
      "/usr/local/lib/python3.9/site-packages/coffea/nanoevents/schemas/nanoaod.py:193: RuntimeWarning: Missing cross-reference index for GenVisTau_genPartIdxMother => GenPart\n",
      "  warnings.warn(\n",
      "/usr/local/lib/python3.9/site-packages/coffea/nanoevents/schemas/nanoaod.py:200: RuntimeWarning: Missing cross-reference target for Jet_genJetIdx => GenJet\n",
      "  warnings.warn(\n"
     ]
    }
   ],
   "source": [
    "# read the file\n",
    "\n",
    "events = NanoEventsFactory.from_root('GluGluToH_HToJPsiG_JPsiToMuMu_TuneCP5_13TeV-madgraph-pythia8_RunIISummer20UL16_Skim.root', schemaclass = NanoAODSchema.v7, treepath='Events').events()"
   ]
  },
  {
   "cell_type": "code",
   "execution_count": 22,
   "metadata": {},
   "outputs": [
    {
     "data": {
      "text/plain": [
       "['genCosThetaStar',\n",
       " 'lheWeight',\n",
       " 'HT30',\n",
       " 'centrality',\n",
       " 'maxMuonPfSubIso',\n",
       " 'photonWeight',\n",
       " 'genTtbarId',\n",
       " 'GenVtx',\n",
       " 'HLT',\n",
       " 'SoftActivityJetNjets10',\n",
       " 'triggerWeightUp',\n",
       " 'CaloMET',\n",
       " 'GenIsolatedPhoton',\n",
       " 'Photon',\n",
       " 'trCentr',\n",
       " 'btagWeight',\n",
       " 'isJPsiTrigger',\n",
       " 'event',\n",
       " 'GenPart',\n",
       " 'SoftActivityJet',\n",
       " 'nCleanBTagJet',\n",
       " 'HLTriggerFinalPath',\n",
       " 'HLTriggerFirstPath',\n",
       " 'triggerMuonEGWeightDown',\n",
       " 'genCosTheta1',\n",
       " 'Muon',\n",
       " 'SoftActivityJetHT',\n",
       " 'cosTheta1',\n",
       " 'isDoubleMuonTrigger',\n",
       " 'minMuonTrkSubIso',\n",
       " 'LHE',\n",
       " 'MET',\n",
       " 'Tau',\n",
       " 'photonWeightUp',\n",
       " 'puWeightUp',\n",
       " 'Photon1',\n",
       " 'qcdnnloWeight',\n",
       " 'TkMET',\n",
       " 'LHEWeight',\n",
       " 'triggerJPsiWeightDown',\n",
       " 'leptonWeightDown',\n",
       " 'Electron',\n",
       " 'passedMETFilters',\n",
       " 'is2018',\n",
       " 'Muon2',\n",
       " 'H',\n",
       " 'L1Reco',\n",
       " 'triggerWeight',\n",
       " 'triggerWeightDown',\n",
       " 'isSingleMuonTrigger',\n",
       " 'Pileup',\n",
       " 'ChsMET',\n",
       " 'L1PreFiringWeight',\n",
       " 'maxMuonTrkSubIso',\n",
       " 'Muon12',\n",
       " 'metPlusPhotonDPhi',\n",
       " 'stitchWeight',\n",
       " 'minMuonMetDPhi',\n",
       " 'minMuonPfSubIso',\n",
       " 'isSingleMuonPhotonTrigger',\n",
       " 'is2016',\n",
       " 'LowPtElectron',\n",
       " 'nCleanPhoton',\n",
       " 'FsrPhoton',\n",
       " 'PSWeight',\n",
       " 'photonMetDPhi',\n",
       " 'nCleanCentralJet',\n",
       " 'isDoubleMuonPhotonTrigger',\n",
       " 'nCleanTau',\n",
       " 'qcdnloWeight',\n",
       " 'boostedTau',\n",
       " 'iPhoton',\n",
       " 'RawMET',\n",
       " 'LHEPdfWeight',\n",
       " 'puWeightDown',\n",
       " 'leptonWeight',\n",
       " 'iMuon1',\n",
       " 'isDisplacedTrigger',\n",
       " 'cosThetaStar',\n",
       " 'SoftActivityJetHT10',\n",
       " 'eventMuonEGWeightLumi',\n",
       " 'photonWeightDown',\n",
       " 'ewknloWeight',\n",
       " 'LHEScaleWeight',\n",
       " 'eventWeightLumi',\n",
       " 'triggerJPsiWeightUp',\n",
       " 'genWeight',\n",
       " 'vbfMjj',\n",
       " 'Muon1',\n",
       " 'LHEPart',\n",
       " 'L1',\n",
       " 'genPhi1',\n",
       " 'PuppiMET',\n",
       " 'iMuon2',\n",
       " 'RawPuppiMET',\n",
       " 'IsoTrack',\n",
       " 'SoftActivityJetHT5',\n",
       " 'GenMET',\n",
       " 'lumiWeight',\n",
       " 'OtherPV',\n",
       " 'is2017',\n",
       " 'vbfDR',\n",
       " 'minMuonPfIso',\n",
       " 'triggerJPsiWeight',\n",
       " 'topWeight',\n",
       " 'Jet',\n",
       " 'phi1',\n",
       " 'luminosityBlock',\n",
       " 'DeepMETResponseTune',\n",
       " 'eventJPsiWeightLumi',\n",
       " 'SoftActivityJetHT2',\n",
       " 'nCleanElectron',\n",
       " 'DeepMETResolutionTune',\n",
       " 'triggerMuonEGWeight',\n",
       " 'nCleanMuon',\n",
       " 'leptonWeightUp',\n",
       " 'SoftActivityJetNjets2',\n",
       " 'run',\n",
       " 'isSingleMuonNoFiltersPhotonTrigger',\n",
       " 'isMC',\n",
       " 'LHEReweightingWeight',\n",
       " 'puWeight',\n",
       " 'PV',\n",
       " 'Flag',\n",
       " 'maxMuonMetDPhi',\n",
       " 'SoftActivityJetNjets5',\n",
       " 'L1simulation',\n",
       " 'JPsi',\n",
       " 'maxMuonPfIso',\n",
       " 'triggerMuonEGWeightUp',\n",
       " 'nCleanForwardJet',\n",
       " 'Generator']"
      ]
     },
     "execution_count": 22,
     "metadata": {},
     "output_type": "execute_result"
    }
   ],
   "source": [
    "# show the available contents for each of the events\n",
    "\n",
    "events.fields"
   ]
  },
  {
   "cell_type": "markdown",
   "metadata": {},
   "source": [
    "## Filtering the events"
   ]
  },
  {
   "cell_type": "markdown",
   "metadata": {},
   "source": [
    "Selection cuts:\n",
    "* Muons:\n",
    "    * $ p_{T} > 18 \\textrm{ }\\mathrm{GeV}$\n",
    "    * $|\\eta| < 2.4$\n",
    "* Gammas: $ p_{T} > 30 \\textrm{ }\\mathrm{GeV}$\n"
   ]
  },
  {
   "cell_type": "code",
   "execution_count": 108,
   "metadata": {},
   "outputs": [],
   "source": [
    "leadingMuon_pt_cut = 17\n",
    "subleadingMuon_pt_cut = 4\n",
    "muon_eta_cut = 2.4\n",
    "photon_pt_cut = 30"
   ]
  },
  {
   "cell_type": "code",
   "execution_count": 131,
   "metadata": {},
   "outputs": [
    {
     "name": "stdout",
     "output_type": "stream",
     "text": [
      "The events that satisfy all the requirements are the 84.1%\n"
     ]
    }
   ],
   "source": [
    "# declare the filters required for the events\n",
    "'''\n",
    "# muon filters\n",
    "muon_filters = (events.Muon.pt > muon_pt_cut) & (abs(events.Muon.eta) < muon_eta_cut)\n",
    "muon_filters = muon_filters & (events.Muon.pt < 10000) # somehow there is an event with a 10400 GeV pT muon\n",
    "\n",
    "# photon filters\n",
    "photon_filters = (events.Photon.pt > photon_pt_cut)\n",
    "\n",
    "\n",
    "event_filters = ak.any(photon_filters, axis = -1) & ak.any(muon_filters, axis = -1) # the axis = -1 here allows us to go event by event\n",
    "                                                                                    # so if theres AT LEAST a muon / photon if an event\n",
    "                                                                                    # that satisfies the required cut\n",
    "                                                                                    # then the event is kept\n",
    "\n",
    "selected_events = events[event_filters] # these are the events that satisfy every requirement\n",
    "print(\"The events that satisfy all the requirements are the %.1f%%\" % (len(selected_events) / len(events) * 100))\n",
    "\n",
    "'''\n",
    "# muon filters\n",
    "atLeast_one_muon_with_17GeV = ak.any(events.Muon.pt > leadingMuon_pt_cut, axis = -1)\n",
    "atLeast_one_muon_with_4GeV = ak.any(events.Muon.pt > subleadingMuon_pt_cut, axis = -1)\n",
    "muon_opposite_charges = ak.sum(events.Muon.charge, axis = -1) == 0\n",
    "\n",
    "muon_filters = atLeast_one_muon_with_17GeV & atLeast_one_muon_with_4GeV & muon_opposite_charges\n",
    "\n",
    "\n",
    "\n",
    "\n",
    "# selected events\n",
    "event_filters = muon_filters # & photon_filters\n",
    "selected_events = events[event_filters]\n",
    "\n",
    "print(\"The events that satisfy all the requirements are the %.1f%%\" % (len(selected_events) / len(events.Muon) * 100))\n"
   ]
  },
  {
   "cell_type": "code",
   "execution_count": 136,
   "metadata": {},
   "outputs": [],
   "source": [
    "# apply the filters\n",
    "\n",
    "selected_muons = events.Muon[muon_filters]\n",
    "#selected_photons = events.Photon[photon_filters]"
   ]
  },
  {
   "cell_type": "code",
   "execution_count": 137,
   "metadata": {},
   "outputs": [
    {
     "name": "stdout",
     "output_type": "stream",
     "text": [
      "A total of 886 out of 1134 muons (78.1%) passed the cuts.\n"
     ]
    }
   ],
   "source": [
    "# info on the cuts efficiency\n",
    "\n",
    "print(\"A total of\", sum(ak.num(selected_muons)), \"out of\", sum(ak.num(events.Muon)), \"muons (%.1f%%) passed the cuts.\" % (sum(ak.num(selected_muons))/sum(ak.num(events.Muon)) * 100))"
   ]
  },
  {
   "cell_type": "markdown",
   "metadata": {},
   "source": [
    "## Plots"
   ]
  },
  {
   "cell_type": "markdown",
   "metadata": {},
   "source": [
    "### Muon $p_{T}$"
   ]
  },
  {
   "cell_type": "code",
   "execution_count": 138,
   "metadata": {},
   "outputs": [
    {
     "data": {
      "text/plain": [
       "<matplotlib.legend.Legend at 0x14f4f4ee0>"
      ]
     },
     "execution_count": 138,
     "metadata": {},
     "output_type": "execute_result"
    },
    {
     "data": {
      "image/png": "[encoded data removed]",
      "text/plain": [
       "<Figure size 1440x720 with 1 Axes>"
      ]
     },
     "metadata": {
      "needs_background": "light"
     },
     "output_type": "display_data"
    }
   ],
   "source": [
    "obs =  ak.flatten(selected_muons.pt, axis = None)\n",
    "\n",
    "min = 0\n",
    "max = 250\n",
    "width = 1.5 # GeV\n",
    "\n",
    "nbins = int(round((max - min) / width))\n",
    "\n",
    "fig, ax = plt.subplots(figsize=(20, 10))\n",
    "ax.hist(\n",
    "    obs,\n",
    "    bins = nbins,\n",
    "    histtype = \"stepfilled\",\n",
    "    color = \"skyblue\",\n",
    "    alpha = 0.8,\n",
    "    edgecolor = \"black\",\n",
    "    label = r\"Muon $p_{T}$ (GeV)\"\n",
    ")\n",
    "\n",
    "ax.set_xlabel(\"Muon $p_{T}$ (GeV)\", fontsize = 30)\n",
    "ax.set_ylabel(\"Events / %.1f GeV\" % width, fontsize = 30)\n",
    "ax.set_xlim(min, max)\n",
    "ax.legend()"
   ]
  },
  {
   "cell_type": "markdown",
   "metadata": {},
   "source": [
    "### Photon $p_{T}$"
   ]
  },
  {
   "cell_type": "code",
   "execution_count": 139,
   "metadata": {},
   "outputs": [
    {
     "data": {
      "text/plain": [
       "<matplotlib.legend.Legend at 0x151ad77c0>"
      ]
     },
     "execution_count": 139,
     "metadata": {},
     "output_type": "execute_result"
    },
    {
     "data": {
      "image/png": "[encoded data removed]",
      "text/plain": [
       "<Figure size 1440x720 with 1 Axes>"
      ]
     },
     "metadata": {
      "needs_background": "light"
     },
     "output_type": "display_data"
    }
   ],
   "source": [
    "obs = ak.flatten(selected_photons.pt, axis = None)\n",
    "\n",
    "min = 0\n",
    "max = 250\n",
    "width = 1.5 # GeV\n",
    "\n",
    "nbins = int(round((max - min) / width))\n",
    "\n",
    "fig, ax = plt.subplots(figsize=(20, 10))\n",
    "ax.hist(\n",
    "    obs,\n",
    "    bins = nbins,\n",
    "    histtype = \"stepfilled\",\n",
    "    color = \"skyblue\",\n",
    "    alpha = 0.8,\n",
    "    edgecolor = \"black\",\n",
    "    label = r\"Photon $p_{T}$ (GeV)\"\n",
    ")\n",
    "ax.set_xlabel(\"Photon $p_{T}$ (GeV)\", fontsize = 30)\n",
    "ax.set_ylabel(\"Events / %.1f GeV\" % width, fontsize = 30)\n",
    "ax.set_xlim(min, max)\n",
    "ax.legend()"
   ]
  },
  {
   "cell_type": "markdown",
   "metadata": {},
   "source": [
    "### Photon quality"
   ]
  },
  {
   "cell_type": "code",
   "execution_count": 140,
   "metadata": {},
   "outputs": [
    {
     "data": {
      "text/plain": [
       "<matplotlib.legend.Legend at 0x151c03820>"
      ]
     },
     "execution_count": 140,
     "metadata": {},
     "output_type": "execute_result"
    },
    {
     "data": {
      "image/png": "[encoded data removed]",
      "text/plain": [
       "<Figure size 1440x720 with 1 Axes>"
      ]
     },
     "metadata": {
      "needs_background": "light"
     },
     "output_type": "display_data"
    }
   ],
   "source": [
    "obs = ak.flatten(events.Photon.r9, axis = None)\n",
    "\n",
    "min = 0\n",
    "max = 1.4\n",
    "width = 0.05\n",
    "\n",
    "nbins = int(round((max - min) / width))\n",
    "\n",
    "fig, ax = plt.subplots(figsize=(20, 10))\n",
    "ax.hist(\n",
    "    obs,\n",
    "    bins = nbins,\n",
    "    histtype = \"stepfilled\",\n",
    "    color = \"skyblue\",\n",
    "    alpha = 0.8,\n",
    "    edgecolor = \"black\",\n",
    "    label = r\"Photon $R_{9}$\"\n",
    ")\n",
    "\n",
    "ax.set_xlabel(\"Photon $R_{9}$\", fontsize = 30)\n",
    "ax.set_ylabel(\"Events / %.2f\" % width, fontsize = 30)\n",
    "#ax.set_xlim(min, max)\n",
    "ax.legend()"
   ]
  },
  {
   "cell_type": "markdown",
   "metadata": {},
   "source": [
    "### Invariant mass"
   ]
  },
  {
   "cell_type": "code",
   "execution_count": 141,
   "metadata": {},
   "outputs": [],
   "source": [
    "muon_theta = 2 * np.tan(np.exp(-selected_events.Muon.eta))"
   ]
  },
  {
   "cell_type": "code",
   "execution_count": 142,
   "metadata": {},
   "outputs": [
    {
     "data": {
      "text/plain": [
       "<Array [[2.28, 2.23], ... [1.97, 1.84]] type='438 * var * float32'>"
      ]
     },
     "execution_count": 142,
     "metadata": {},
     "output_type": "execute_result"
    }
   ],
   "source": [
    "muon_theta = 2 * np.arctan(np.exp(selected_events.Muon.eta))\n",
    "muon_theta"
   ]
  },
  {
   "cell_type": "code",
   "execution_count": 143,
   "metadata": {},
   "outputs": [],
   "source": [
    "muon_P = selected_events.Muon.pt / np.sin(muon_theta)\n",
    "muon_Px = muon_P * np.sin(muon_theta) * np.cos(selected_events.Muon.phi)\n",
    "muon_Py = muon_P * np.sin(muon_theta) * np.sin(selected_events.Muon.phi)\n",
    "muon_Pz = muon_P * np.cos(muon_theta)\n",
    "muon_e = (selected_events.Muon.mass ** 2 + muon_P ** 2) ** 0.5"
   ]
  },
  {
   "cell_type": "code",
   "execution_count": 148,
   "metadata": {},
   "outputs": [],
   "source": [
    "mumu_Px = ak.sum(muon_Px, axis = -1)\n",
    "mumu_Py = ak.sum(muon_Py, axis = -1)\n",
    "mumu_Pz = ak.sum(muon_Pz, axis = -1)\n",
    "\n",
    "mumu_e = ak.sum(muon_e, axis = -1)\n",
    "\n",
    "mumu_m = (mumu_e ** 2 - mumu_Px ** 2 - mumu_Py ** 2 - mumu_Pz ** 2) ** 0.5"
   ]
  },
  {
   "cell_type": "code",
   "execution_count": 150,
   "metadata": {},
   "outputs": [
    {
     "data": {
      "text/plain": [
       "<Array [3.11, 3.12, 3.06, ... 3.06, 3.07, 3.14] type='438 * float32'>"
      ]
     },
     "execution_count": 150,
     "metadata": {},
     "output_type": "execute_result"
    }
   ],
   "source": [
    "mumu_m"
   ]
  },
  {
   "cell_type": "code",
   "execution_count": 156,
   "metadata": {},
   "outputs": [
    {
     "data": {
      "text/plain": [
       "<matplotlib.legend.Legend at 0x1526134c0>"
      ]
     },
     "execution_count": 156,
     "metadata": {},
     "output_type": "execute_result"
    },
    {
     "data": {
      "image/png": "[encoded data removed]",
      "text/plain": [
       "<Figure size 1440x720 with 1 Axes>"
      ]
     },
     "metadata": {
      "needs_background": "light"
     },
     "output_type": "display_data"
    }
   ],
   "source": [
    "obs = ak.flatten(mumu_m, axis = None)\n",
    "\n",
    "min = 0\n",
    "max = 5\n",
    "width = 0.01 # GeV\n",
    "\n",
    "nbins = int(round((max - min) / width))\n",
    "\n",
    "fig, ax = plt.subplots(figsize=(20, 10))\n",
    "ax.hist(\n",
    "    obs,\n",
    "    bins = nbins,\n",
    "    histtype = \"stepfilled\",\n",
    "    color = \"firebrick\",\n",
    "    alpha = 0.8,\n",
    "    edgecolor = \"black\",\n",
    "    label = r\"$m_{\\mu \\mu}$\"\n",
    ")\n",
    "\n",
    "ax.set_xlabel(\"$m_{\\mu \\mu}\\ ({\\\\rm GeV})$\", fontsize = 30)\n",
    "ax.set_ylabel(\"Events / %.2f\" % width, fontsize = 30)\n",
    "ax.set_xlim(min, max)\n",
    "ax.legend()"
   ]
  },
  {
   "cell_type": "markdown",
   "metadata": {},
   "source": [
    "## Signal efficiency: efficiency of the trigger path (HLT_Mu17_Photon30) with respect to the desired signal"
   ]
  },
  {
   "cell_type": "code",
   "execution_count": 22,
   "metadata": {},
   "outputs": [],
   "source": [
    "den = ak.sum( ak.any(events.Muon.pt > muon_pt_cut, axis = -1) & ak.any(events.Photon.pt > photon_pt_cut, axis = -1))\n",
    "num = ak.sum( ak.any(events.Muon[events.HLT.Mu17_Photon30_CaloIdL_L1ISO].pt > muon_pt_cut, axis = -1) & ak.any(events.Photon[events.HLT.Mu17_Photon30_CaloIdL_L1ISO].pt > photon_pt_cut, axis = -1))"
   ]
  },
  {
   "cell_type": "code",
   "execution_count": 23,
   "metadata": {},
   "outputs": [
    {
     "name": "stdout",
     "output_type": "stream",
     "text": [
      "The trigger efficiency is 87.8%\n"
     ]
    }
   ],
   "source": [
    "trig_eff = num / den * 100\n",
    "print(\"The trigger efficiency is %.1f%%\" % trig_eff)"
   ]
  }
 ],
 "metadata": {
  "kernelspec": {
   "display_name": "Python 3.9.13 64-bit",
   "language": "python",
   "name": "python3"
  },
  "language_info": {
   "codemirror_mode": {
    "name": "ipython",
    "version": 3
   },
   "file_extension": ".py",
   "mimetype": "text/x-python",
   "name": "python",
   "nbconvert_exporter": "python",
   "pygments_lexer": "ipython3",
   "version": "3.9.13"
  },
  "orig_nbformat": 4,
  "vscode": {
   "interpreter": {
    "hash": "aee8b7b246df8f9039afb4144a1f6fd8d2ca17a180786b69acc140d282b71a49"
   }
  }
 },
 "nbformat": 4,
 "nbformat_minor": 2
}
